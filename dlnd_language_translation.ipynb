{
 "cells": [
  {
   "cell_type": "markdown",
   "metadata": {
    "collapsed": true
   },
   "source": [
    "# Language Translation\n",
    "In this project, you’re going to take a peek into the realm of neural network machine translation.  You’ll be training a sequence to sequence model on a dataset of English and French sentences that can translate new sentences from English to French.\n",
    "## Get the Data\n",
    "Since translating the whole language of English to French will take lots of time to train, we have provided you with a small portion of the English corpus."
   ]
  },
  {
   "cell_type": "code",
   "execution_count": 1,
   "metadata": {
    "collapsed": true
   },
   "outputs": [],
   "source": [
    "\"\"\"\n",
    "DON'T MODIFY ANYTHING IN THIS CELL\n",
    "\"\"\"\n",
    "import helper\n",
    "import problem_unittests as tests\n",
    "\n",
    "source_path = 'data/small_vocab_en'\n",
    "target_path = 'data/small_vocab_fr'\n",
    "source_text = helper.load_data(source_path)\n",
    "target_text = helper.load_data(target_path)"
   ]
  },
  {
   "cell_type": "markdown",
   "metadata": {},
   "source": [
    "## Explore the Data\n",
    "Play around with view_sentence_range to view different parts of the data."
   ]
  },
  {
   "cell_type": "code",
   "execution_count": 2,
   "metadata": {},
   "outputs": [
    {
     "name": "stdout",
     "output_type": "stream",
     "text": [
      "Dataset Stats\n",
      "Roughly the number of unique words: 227\n",
      "Number of sentences: 137861\n",
      "Average number of words in a sentence: 13.225277634719028\n",
      "\n",
      "English sentences 0 to 10:\n",
      "new jersey is sometimes quiet during autumn , and it is snowy in april .\n",
      "the united states is usually chilly during july , and it is usually freezing in november .\n",
      "california is usually quiet during march , and it is usually hot in june .\n",
      "the united states is sometimes mild during june , and it is cold in september .\n",
      "your least liked fruit is the grape , but my least liked is the apple .\n",
      "his favorite fruit is the orange , but my favorite is the grape .\n",
      "paris is relaxing during december , but it is usually chilly in july .\n",
      "new jersey is busy during spring , and it is never hot in march .\n",
      "our least liked fruit is the lemon , but my least liked is the grape .\n",
      "the united states is sometimes busy during january , and it is sometimes warm in november .\n",
      "\n",
      "French sentences 0 to 10:\n",
      "new jersey est parfois calme pendant l' automne , et il est neigeux en avril .\n",
      "les états-unis est généralement froid en juillet , et il gèle habituellement en novembre .\n",
      "california est généralement calme en mars , et il est généralement chaud en juin .\n",
      "les états-unis est parfois légère en juin , et il fait froid en septembre .\n",
      "votre moins aimé fruit est le raisin , mais mon moins aimé est la pomme .\n",
      "son fruit préféré est l'orange , mais mon préféré est le raisin .\n",
      "paris est relaxant en décembre , mais il est généralement froid en juillet .\n",
      "new jersey est occupé au printemps , et il est jamais chaude en mars .\n",
      "notre fruit est moins aimé le citron , mais mon moins aimé est le raisin .\n",
      "les états-unis est parfois occupé en janvier , et il est parfois chaud en novembre .\n"
     ]
    }
   ],
   "source": [
    "view_sentence_range = (0, 10)\n",
    "\n",
    "\"\"\"\n",
    "DON'T MODIFY ANYTHING IN THIS CELL\n",
    "\"\"\"\n",
    "import numpy as np\n",
    "\n",
    "print('Dataset Stats')\n",
    "print('Roughly the number of unique words: {}'.format(len({word: None for word in source_text.split()})))\n",
    "\n",
    "sentences = source_text.split('\\n')\n",
    "word_counts = [len(sentence.split()) for sentence in sentences]\n",
    "print('Number of sentences: {}'.format(len(sentences)))\n",
    "print('Average number of words in a sentence: {}'.format(np.average(word_counts)))\n",
    "\n",
    "print()\n",
    "print('English sentences {} to {}:'.format(*view_sentence_range))\n",
    "print('\\n'.join(source_text.split('\\n')[view_sentence_range[0]:view_sentence_range[1]]))\n",
    "print()\n",
    "print('French sentences {} to {}:'.format(*view_sentence_range))\n",
    "print('\\n'.join(target_text.split('\\n')[view_sentence_range[0]:view_sentence_range[1]]))"
   ]
  },
  {
   "cell_type": "markdown",
   "metadata": {},
   "source": [
    "## Implement Preprocessing Function\n",
    "### Text to Word Ids\n",
    "As you did with other RNNs, you must turn the text into a number so the computer can understand it. In the function `text_to_ids()`, you'll turn `source_text` and `target_text` from words to ids.  However, you need to add the `<EOS>` word id at the end of `target_text`.  This will help the neural network predict when the sentence should end.\n",
    "\n",
    "You can get the `<EOS>` word id by doing:\n",
    "```python\n",
    "target_vocab_to_int['<EOS>']\n",
    "```\n",
    "You can get other word ids using `source_vocab_to_int` and `target_vocab_to_int`."
   ]
  },
  {
   "cell_type": "code",
   "execution_count": 3,
   "metadata": {},
   "outputs": [
    {
     "name": "stdout",
     "output_type": "stream",
     "text": [
      "Tests Passed\n"
     ]
    }
   ],
   "source": [
    "def text_to_ids(source_text, target_text, source_vocab_to_int, target_vocab_to_int):\n",
    "    \"\"\"\n",
    "    Convert source and target text to proper word ids\n",
    "    :param source_text: String that contains all the source text.\n",
    "    :param target_text: String that contains all the target text.\n",
    "    :param source_vocab_to_int: Dictionary to go from the source words to an id\n",
    "    :param target_vocab_to_int: Dictionary to go from the target words to an id\n",
    "    :return: A tuple of lists (source_id_text, target_id_text)\n",
    "    \"\"\"\n",
    "    # TODO: Implement Function\n",
    "    source_id_text = [[source_vocab_to_int[word] for word in sentence.split()] for sentence in source_text.split('\\n')]\n",
    "    target_id_text = [[target_vocab_to_int[word] for word in (sentence + ' <EOS>').split()] for sentence in target_text.split('\\n')]\n",
    "    return source_id_text, target_id_text\n",
    "\n",
    "\"\"\"\n",
    "DON'T MODIFY ANYTHING IN THIS CELL THAT IS BELOW THIS LINE\n",
    "\"\"\"\n",
    "tests.test_text_to_ids(text_to_ids)"
   ]
  },
  {
   "cell_type": "markdown",
   "metadata": {},
   "source": [
    "### Preprocess all the data and save it\n",
    "Running the code cell below will preprocess all the data and save it to file."
   ]
  },
  {
   "cell_type": "code",
   "execution_count": 4,
   "metadata": {
    "collapsed": true
   },
   "outputs": [],
   "source": [
    "\"\"\"\n",
    "DON'T MODIFY ANYTHING IN THIS CELL\n",
    "\"\"\"\n",
    "helper.preprocess_and_save_data(source_path, target_path, text_to_ids)"
   ]
  },
  {
   "cell_type": "markdown",
   "metadata": {},
   "source": [
    "# Check Point\n",
    "This is your first checkpoint. If you ever decide to come back to this notebook or have to restart the notebook, you can start from here. The preprocessed data has been saved to disk."
   ]
  },
  {
   "cell_type": "code",
   "execution_count": 5,
   "metadata": {
    "collapsed": true
   },
   "outputs": [],
   "source": [
    "\"\"\"\n",
    "DON'T MODIFY ANYTHING IN THIS CELL\n",
    "\"\"\"\n",
    "import numpy as np\n",
    "import helper\n",
    "\n",
    "(source_int_text, target_int_text), (source_vocab_to_int, target_vocab_to_int), _ = helper.load_preprocess()"
   ]
  },
  {
   "cell_type": "markdown",
   "metadata": {},
   "source": [
    "### Check the Version of TensorFlow and Access to GPU\n",
    "This will check to make sure you have the correct version of TensorFlow and access to a GPU"
   ]
  },
  {
   "cell_type": "code",
   "execution_count": 6,
   "metadata": {},
   "outputs": [
    {
     "name": "stdout",
     "output_type": "stream",
     "text": [
      "TensorFlow Version: 1.1.0\n",
      "Default GPU Device: /gpu:0\n"
     ]
    }
   ],
   "source": [
    "\"\"\"\n",
    "DON'T MODIFY ANYTHING IN THIS CELL\n",
    "\"\"\"\n",
    "from distutils.version import LooseVersion\n",
    "import warnings\n",
    "import tensorflow as tf\n",
    "from tensorflow.python.layers.core import Dense\n",
    "\n",
    "# Check TensorFlow Version\n",
    "assert LooseVersion(tf.__version__) >= LooseVersion('1.1'), 'Please use TensorFlow version 1.1 or newer'\n",
    "print('TensorFlow Version: {}'.format(tf.__version__))\n",
    "\n",
    "# Check for a GPU\n",
    "if not tf.test.gpu_device_name():\n",
    "    warnings.warn('No GPU found. Please use a GPU to train your neural network.')\n",
    "else:\n",
    "    print('Default GPU Device: {}'.format(tf.test.gpu_device_name()))"
   ]
  },
  {
   "cell_type": "markdown",
   "metadata": {},
   "source": [
    "## Build the Neural Network\n",
    "You'll build the components necessary to build a Sequence-to-Sequence model by implementing the following functions below:\n",
    "- `model_inputs`\n",
    "- `process_decoder_input`\n",
    "- `encoding_layer`\n",
    "- `decoding_layer_train`\n",
    "- `decoding_layer_infer`\n",
    "- `decoding_layer`\n",
    "- `seq2seq_model`\n",
    "\n",
    "### Input\n",
    "Implement the `model_inputs()` function to create TF Placeholders for the Neural Network. It should create the following placeholders:\n",
    "\n",
    "- Input text placeholder named \"input\" using the TF Placeholder name parameter with rank 2.\n",
    "- Targets placeholder with rank 2.\n",
    "- Learning rate placeholder with rank 0.\n",
    "- Keep probability placeholder named \"keep_prob\" using the TF Placeholder name parameter with rank 0.\n",
    "- Target sequence length placeholder named \"target_sequence_length\" with rank 1\n",
    "- Max target sequence length tensor named \"max_target_len\" getting its value from applying tf.reduce_max on the target_sequence_length placeholder. Rank 0.\n",
    "- Source sequence length placeholder named \"source_sequence_length\" with rank 1\n",
    "\n",
    "Return the placeholders in the following the tuple (input, targets, learning rate, keep probability, target sequence length, max target sequence length, source sequence length)"
   ]
  },
  {
   "cell_type": "code",
   "execution_count": 7,
   "metadata": {},
   "outputs": [
    {
     "name": "stdout",
     "output_type": "stream",
     "text": [
      "Tests Passed\n"
     ]
    }
   ],
   "source": [
    "def model_inputs():\n",
    "    \"\"\"\n",
    "    Create TF Placeholders for input, targets, learning rate, and lengths of source and target sequences.\n",
    "    :return: Tuple (input, targets, learning rate, keep probability, target sequence length,\n",
    "    max target sequence length, source sequence length)\n",
    "    \"\"\"\n",
    "    # TODO: Implement Function\n",
    "    input = tf.placeholder(tf.int32, [None, None], name='input')\n",
    "    targets = tf.placeholder(tf.int32, [None, None], name='targets')\n",
    "    learning_rate = tf.placeholder(tf.float32, name='learning_rate')\n",
    "    keep_prob = tf.placeholder(tf.float32, name='keep_prob')\n",
    "    target_sequence_length = tf.placeholder(tf.int32, [None], name='target_sequence_length')\n",
    "    max_target_len = tf.reduce_max(target_sequence_length, name='max_target_len')\n",
    "    source_sequence_length = tf.placeholder(tf.int32, [None], name='source_sequence_length')\n",
    "    return input, targets, learning_rate, keep_prob, target_sequence_length, max_target_len, source_sequence_length\n",
    "\n",
    "\n",
    "\"\"\"\n",
    "DON'T MODIFY ANYTHING IN THIS CELL THAT IS BELOW THIS LINE\n",
    "\"\"\"\n",
    "tests.test_model_inputs(model_inputs)"
   ]
  },
  {
   "cell_type": "markdown",
   "metadata": {},
   "source": [
    "### Process Decoder Input\n",
    "Implement `process_decoder_input` by removing the last word id from each batch in `target_data` and concat the GO ID to the begining of each batch."
   ]
  },
  {
   "cell_type": "code",
   "execution_count": 11,
   "metadata": {},
   "outputs": [
    {
     "name": "stdout",
     "output_type": "stream",
     "text": [
      "Tests Passed\n"
     ]
    }
   ],
   "source": [
    "def process_decoder_input(target_data, target_vocab_to_int, batch_size):\n",
    "    \"\"\"\n",
    "    Preprocess target data for encoding\n",
    "    :param target_data: Target Placehoder\n",
    "    :param target_vocab_to_int: Dictionary to go from the target words to an id\n",
    "    :param batch_size: Batch Size\n",
    "    :return: Preprocessed target data\n",
    "    \"\"\"\n",
    "    # TODO: Implement Function\n",
    "    ending = tf.strided_slice(target_data, [0,0], [batch_size, -1], [1,1])\n",
    "    decoder_input = tf.concat([tf.fill([batch_size,1], target_vocab_to_int['<GO>']), ending], 1)\n",
    "    return decoder_input\n",
    "\n",
    "\"\"\"\n",
    "DON'T MODIFY ANYTHING IN THIS CELL THAT IS BELOW THIS LINE\n",
    "\"\"\"\n",
    "tests.test_process_encoding_input(process_decoder_input)"
   ]
  },
  {
   "cell_type": "markdown",
   "metadata": {},
   "source": [
    "### Encoding\n",
    "Implement `encoding_layer()` to create a Encoder RNN layer:\n",
    " * Embed the encoder input using [`tf.contrib.layers.embed_sequence`](https://www.tensorflow.org/api_docs/python/tf/contrib/layers/embed_sequence)\n",
    " * Construct a [stacked](https://github.com/tensorflow/tensorflow/blob/6947f65a374ebf29e74bb71e36fd82760056d82c/tensorflow/docs_src/tutorials/recurrent.md#stacking-multiple-lstms) [`tf.contrib.rnn.LSTMCell`](https://www.tensorflow.org/api_docs/python/tf/contrib/rnn/LSTMCell) wrapped in a [`tf.contrib.rnn.DropoutWrapper`](https://www.tensorflow.org/api_docs/python/tf/contrib/rnn/DropoutWrapper)\n",
    " * Pass cell and embedded input to [`tf.nn.dynamic_rnn()`](https://www.tensorflow.org/api_docs/python/tf/nn/dynamic_rnn)"
   ]
  },
  {
   "cell_type": "code",
   "execution_count": 12,
   "metadata": {
    "scrolled": false
   },
   "outputs": [
    {
     "name": "stdout",
     "output_type": "stream",
     "text": [
      "Tests Passed\n"
     ]
    }
   ],
   "source": [
    "from imp import reload\n",
    "reload(tests)\n",
    "\n",
    "def encoding_layer(rnn_inputs, rnn_size, num_layers, keep_prob, \n",
    "                   source_sequence_length, source_vocab_size, \n",
    "                   encoding_embedding_size):\n",
    "    \"\"\"\n",
    "    Create encoding layer\n",
    "    :param rnn_inputs: Inputs for the RNN\n",
    "    :param rnn_size: RNN Size\n",
    "    :param num_layers: Number of layers\n",
    "    :param keep_prob: Dropout keep probability\n",
    "    :param source_sequence_length: a list of the lengths of each sequence in the batch\n",
    "    :param source_vocab_size: vocabulary size of source data\n",
    "    :param encoding_embedding_size: embedding size of source data\n",
    "    :return: tuple (RNN output, RNN state)\n",
    "    \"\"\"\n",
    "    # TODO: Implement Function\n",
    "    # Encoder embedding\n",
    "    enc_embed_input = tf.contrib.layers.embed_sequence(rnn_inputs, source_vocab_size, encoding_embedding_size)\n",
    "    \n",
    "    # RNN cell\n",
    "    def make_cell(rnn_size, keep_prob):\n",
    "        lstm = tf.contrib.rnn.LSTMCell(rnn_size,\n",
    "                                           initializer=tf.random_uniform_initializer(-0.1, 0.1, seed=2))\n",
    "        drop = tf.contrib.rnn.DropoutWrapper(lstm, output_keep_prob=keep_prob)\n",
    "        return drop\n",
    "\n",
    "    enc_cell = tf.contrib.rnn.MultiRNNCell([make_cell(rnn_size, keep_prob) for _ in range(num_layers)])\n",
    "    \n",
    "    enc_output, enc_state = tf.nn.dynamic_rnn(enc_cell, enc_embed_input, sequence_length=source_sequence_length, dtype=tf.float32)\n",
    "    \n",
    "    return enc_output, enc_state\n",
    "\n",
    "\"\"\"\n",
    "DON'T MODIFY ANYTHING IN THIS CELL THAT IS BELOW THIS LINE\n",
    "\"\"\"\n",
    "tests.test_encoding_layer(encoding_layer)"
   ]
  },
  {
   "cell_type": "markdown",
   "metadata": {},
   "source": [
    "### Decoding - Training\n",
    "Create a training decoding layer:\n",
    "* Create a [`tf.contrib.seq2seq.TrainingHelper`](https://www.tensorflow.org/api_docs/python/tf/contrib/seq2seq/TrainingHelper) \n",
    "* Create a [`tf.contrib.seq2seq.BasicDecoder`](https://www.tensorflow.org/api_docs/python/tf/contrib/seq2seq/BasicDecoder)\n",
    "* Obtain the decoder outputs from [`tf.contrib.seq2seq.dynamic_decode`](https://www.tensorflow.org/api_docs/python/tf/contrib/seq2seq/dynamic_decode)"
   ]
  },
  {
   "cell_type": "code",
   "execution_count": 14,
   "metadata": {},
   "outputs": [
    {
     "name": "stdout",
     "output_type": "stream",
     "text": [
      "Tests Passed\n"
     ]
    }
   ],
   "source": [
    "\n",
    "def decoding_layer_train(encoder_state, dec_cell, dec_embed_input, \n",
    "                         target_sequence_length, max_summary_length, \n",
    "                         output_layer, keep_prob):\n",
    "    \"\"\"\n",
    "    Create a decoding layer for training\n",
    "    :param encoder_state: Encoder State\n",
    "    :param dec_cell: Decoder RNN Cell\n",
    "    :param dec_embed_input: Decoder embedded input\n",
    "    :param target_sequence_length: The lengths of each sequence in the target batch\n",
    "    :param max_summary_length: The length of the longest sequence in the batch\n",
    "    :param output_layer: Function to apply the output layer\n",
    "    :param keep_prob: Dropout keep probability\n",
    "    :return: BasicDecoderOutput containing training logits and sample_id\n",
    "    \"\"\"\n",
    "    # TODO: Implement Function\n",
    "    # Training Helper\n",
    "    training_helper = tf.contrib.seq2seq.TrainingHelper(dec_embed_input,target_sequence_length)\n",
    "    \n",
    "    # Basic Decoder\n",
    "    training_decoder = tf.contrib.seq2seq.BasicDecoder(dec_cell, training_helper, encoder_state, output_layer)\n",
    "    \n",
    "    # Perform dynamic decoding\n",
    "    training_decoder_output, _= tf.contrib.seq2seq.dynamic_decode(training_decoder,impute_finished=True,maximum_iterations=max_summary_length)\n",
    "    \n",
    "    return training_decoder_output\n",
    "\n",
    "\n",
    "\n",
    "\"\"\"\n",
    "DON'T MODIFY ANYTHING IN THIS CELL THAT IS BELOW THIS LINE\n",
    "\"\"\"\n",
    "tests.test_decoding_layer_train(decoding_layer_train)"
   ]
  },
  {
   "cell_type": "markdown",
   "metadata": {},
   "source": [
    "### Decoding - Inference\n",
    "Create inference decoder:\n",
    "* Create a [`tf.contrib.seq2seq.GreedyEmbeddingHelper`](https://www.tensorflow.org/api_docs/python/tf/contrib/seq2seq/GreedyEmbeddingHelper)\n",
    "* Create a [`tf.contrib.seq2seq.BasicDecoder`](https://www.tensorflow.org/api_docs/python/tf/contrib/seq2seq/BasicDecoder)\n",
    "* Obtain the decoder outputs from [`tf.contrib.seq2seq.dynamic_decode`](https://www.tensorflow.org/api_docs/python/tf/contrib/seq2seq/dynamic_decode)"
   ]
  },
  {
   "cell_type": "code",
   "execution_count": 17,
   "metadata": {
    "scrolled": true
   },
   "outputs": [
    {
     "name": "stdout",
     "output_type": "stream",
     "text": [
      "Tests Passed\n"
     ]
    }
   ],
   "source": [
    "def decoding_layer_infer(encoder_state, dec_cell, dec_embeddings, start_of_sequence_id,\n",
    "                         end_of_sequence_id, max_target_sequence_length,\n",
    "                         vocab_size, output_layer, batch_size, keep_prob):\n",
    "    \"\"\"\n",
    "    Create a decoding layer for inference\n",
    "    :param encoder_state: Encoder state\n",
    "    :param dec_cell: Decoder RNN Cell\n",
    "    :param dec_embeddings: Decoder embeddings\n",
    "    :param start_of_sequence_id: GO ID\n",
    "    :param end_of_sequence_id: EOS Id\n",
    "    :param max_target_sequence_length: Maximum length of target sequences\n",
    "    :param vocab_size: Size of decoder/target vocabulary\n",
    "    :param decoding_scope: TenorFlow Variable Scope for decoding\n",
    "    :param output_layer: Function to apply the output layer\n",
    "    :param batch_size: Batch size\n",
    "    :param keep_prob: Dropout keep probability\n",
    "    :return: BasicDecoderOutput containing inference logits and sample_id\n",
    "    \"\"\"\n",
    "    # TODO: Implement Function\n",
    "    start_tokens = tf.tile(tf.constant([start_of_sequence_id], dtype=tf.int32), [batch_size], name='start_tokens')\n",
    "    \n",
    "    # Helper for the inference process.\n",
    "    inference_helper = tf.contrib.seq2seq.GreedyEmbeddingHelper(dec_embeddings, start_tokens, end_of_sequence_id)\n",
    "\n",
    "    # Basic decoder\n",
    "    inference_decoder = tf.contrib.seq2seq.BasicDecoder(dec_cell, inference_helper, encoder_state, output_layer)\n",
    "\n",
    "    # Perform dynamic decoding using the decoder\n",
    "    inference_decoder_output, _= tf.contrib.seq2seq.dynamic_decode(inference_decoder, impute_finished=True, maximum_iterations=max_target_sequence_length)\n",
    "    \n",
    "    return inference_decoder_output\n",
    "\n",
    "\n",
    "\n",
    "\"\"\"\n",
    "DON'T MODIFY ANYTHING IN THIS CELL THAT IS BELOW THIS LINE\n",
    "\"\"\"\n",
    "tests.test_decoding_layer_infer(decoding_layer_infer)"
   ]
  },
  {
   "cell_type": "markdown",
   "metadata": {},
   "source": [
    "### Build the Decoding Layer\n",
    "Implement `decoding_layer()` to create a Decoder RNN layer.\n",
    "\n",
    "* Embed the target sequences\n",
    "* Construct the decoder LSTM cell (just like you constructed the encoder cell above)\n",
    "* Create an output layer to map the outputs of the decoder to the elements of our vocabulary\n",
    "* Use the your `decoding_layer_train(encoder_state, dec_cell, dec_embed_input, target_sequence_length, max_target_sequence_length, output_layer, keep_prob)` function to get the training logits.\n",
    "* Use your `decoding_layer_infer(encoder_state, dec_cell, dec_embeddings, start_of_sequence_id, end_of_sequence_id, max_target_sequence_length, vocab_size, output_layer, batch_size, keep_prob)` function to get the inference logits.\n",
    "\n",
    "Note: You'll need to use [tf.variable_scope](https://www.tensorflow.org/api_docs/python/tf/variable_scope) to share variables between training and inference."
   ]
  },
  {
   "cell_type": "code",
   "execution_count": 19,
   "metadata": {},
   "outputs": [
    {
     "name": "stdout",
     "output_type": "stream",
     "text": [
      "Tests Passed\n"
     ]
    }
   ],
   "source": [
    "def decoding_layer(dec_input, encoder_state,\n",
    "                   target_sequence_length, max_target_sequence_length,\n",
    "                   rnn_size,\n",
    "                   num_layers, target_vocab_to_int, target_vocab_size,\n",
    "                   batch_size, keep_prob, decoding_embedding_size):\n",
    "    \"\"\"\n",
    "    Create decoding layer\n",
    "    :param dec_input: Decoder input\n",
    "    :param encoder_state: Encoder state\n",
    "    :param target_sequence_length: The lengths of each sequence in the target batch\n",
    "    :param max_target_sequence_length: Maximum length of target sequences\n",
    "    :param rnn_size: RNN Size\n",
    "    :param num_layers: Number of layers\n",
    "    :param target_vocab_to_int: Dictionary to go from the target words to an id\n",
    "    :param target_vocab_size: Size of target vocabulary\n",
    "    :param batch_size: The size of the batch\n",
    "    :param keep_prob: Dropout keep probability\n",
    "    :param decoding_embedding_size: Decoding embedding size\n",
    "    :return: Tuple of (Training BasicDecoderOutput, Inference BasicDecoderOutput)\n",
    "    \"\"\"\n",
    "    # TODO: Implement Function\n",
    "    dec_embeddings = tf.Variable(tf.random_uniform([target_vocab_size, decoding_embedding_size]))\n",
    "    dec_embed_input = tf.nn.embedding_lookup(dec_embeddings, dec_input)\n",
    "    \n",
    "    def make_cell(rnn_size, keep_prob):\n",
    "        lstm = tf.contrib.rnn.LSTMCell(rnn_size,\n",
    "                                           initializer=tf.random_uniform_initializer(-0.1, 0.1, seed=2))\n",
    "        drop = tf.contrib.rnn.DropoutWrapper(lstm, output_keep_prob=keep_prob)\n",
    "        return drop\n",
    "\n",
    "    dec_cell = tf.contrib.rnn.MultiRNNCell([make_cell(rnn_size, keep_prob) for _ in range(num_layers)])\n",
    "    \n",
    "    output_layer = Dense(target_vocab_size,\n",
    "                         kernel_initializer = tf.truncated_normal_initializer(mean = 0.0, stddev=0.1))\n",
    "    \n",
    "    with tf.variable_scope(\"decode\"):\n",
    "        training_decoder_output = decoding_layer_train(encoder_state, dec_cell, dec_embed_input, \n",
    "                                                       target_sequence_length, max_target_sequence_length, \n",
    "                                                       output_layer, keep_prob)\n",
    "        \n",
    "    with tf.variable_scope(\"decode\", reuse=True):\n",
    "        inference_decoder_output = decoding_layer_infer(encoder_state, dec_cell, dec_embeddings, \n",
    "                                                        target_vocab_to_int['<GO>'], target_vocab_to_int['<EOS>'], \n",
    "                                                        max_target_sequence_length, target_vocab_size, \n",
    "                                                        output_layer, batch_size, keep_prob)\n",
    "    \n",
    "    return training_decoder_output, inference_decoder_output\n",
    "\n",
    "\n",
    "\n",
    "\"\"\"\n",
    "DON'T MODIFY ANYTHING IN THIS CELL THAT IS BELOW THIS LINE\n",
    "\"\"\"\n",
    "tests.test_decoding_layer(decoding_layer)"
   ]
  },
  {
   "cell_type": "markdown",
   "metadata": {},
   "source": [
    "### Build the Neural Network\n",
    "Apply the functions you implemented above to:\n",
    "\n",
    "- Encode the input using your `encoding_layer(rnn_inputs, rnn_size, num_layers, keep_prob,  source_sequence_length, source_vocab_size, encoding_embedding_size)`.\n",
    "- Process target data using your `process_decoder_input(target_data, target_vocab_to_int, batch_size)` function.\n",
    "- Decode the encoded input using your `decoding_layer(dec_input, enc_state, target_sequence_length, max_target_sentence_length, rnn_size, num_layers, target_vocab_to_int, target_vocab_size, batch_size, keep_prob, dec_embedding_size)` function."
   ]
  },
  {
   "cell_type": "code",
   "execution_count": 23,
   "metadata": {},
   "outputs": [
    {
     "name": "stdout",
     "output_type": "stream",
     "text": [
      "Tests Passed\n"
     ]
    }
   ],
   "source": [
    "def seq2seq_model(input_data, target_data, keep_prob, batch_size,\n",
    "                  source_sequence_length, target_sequence_length,\n",
    "                  max_target_sentence_length,\n",
    "                  source_vocab_size, target_vocab_size,\n",
    "                  enc_embedding_size, dec_embedding_size,\n",
    "                  rnn_size, num_layers, target_vocab_to_int):\n",
    "    \"\"\"\n",
    "    Build the Sequence-to-Sequence part of the neural network\n",
    "    :param input_data: Input placeholder\n",
    "    :param target_data: Target placeholder\n",
    "    :param keep_prob: Dropout keep probability placeholder\n",
    "    :param batch_size: Batch Size\n",
    "    :param source_sequence_length: Sequence Lengths of source sequences in the batch\n",
    "    :param target_sequence_length: Sequence Lengths of target sequences in the batch\n",
    "    :param source_vocab_size: Source vocabulary size\n",
    "    :param target_vocab_size: Target vocabulary size\n",
    "    :param enc_embedding_size: Decoder embedding size\n",
    "    :param dec_embedding_size: Encoder embedding size\n",
    "    :param rnn_size: RNN Size\n",
    "    :param num_layers: Number of layers\n",
    "    :param target_vocab_to_int: Dictionary to go from the target words to an id\n",
    "    :return: Tuple of (Training BasicDecoderOutput, Inference BasicDecoderOutput)\n",
    "    \"\"\"\n",
    "    # TODO: Implement Function\n",
    "    enc_output, enc_state = encoding_layer(input_data, rnn_size, num_layers, keep_prob, source_sequence_length, \n",
    "                                           source_vocab_size, enc_embedding_size)\n",
    "    \n",
    "    dec_input = process_decoder_input(target_data, target_vocab_to_int, batch_size)\n",
    "    \n",
    "    training_decoder_output, inference_decoder_output = decoding_layer(dec_input, enc_state,\n",
    "                                                                       target_sequence_length, \n",
    "                                                                       max_target_sentence_length, rnn_size, \n",
    "                                                                       num_layers, target_vocab_to_int, \n",
    "                                                                       target_vocab_size, batch_size, keep_prob, \n",
    "                                                                       dec_embedding_size)\n",
    "    return training_decoder_output, inference_decoder_output\n",
    "\n",
    "\n",
    "\"\"\"\n",
    "DON'T MODIFY ANYTHING IN THIS CELL THAT IS BELOW THIS LINE\n",
    "\"\"\"\n",
    "tests.test_seq2seq_model(seq2seq_model)"
   ]
  },
  {
   "cell_type": "markdown",
   "metadata": {},
   "source": [
    "## Neural Network Training\n",
    "### Hyperparameters\n",
    "Tune the following parameters:\n",
    "\n",
    "- Set `epochs` to the number of epochs.\n",
    "- Set `batch_size` to the batch size.\n",
    "- Set `rnn_size` to the size of the RNNs.\n",
    "- Set `num_layers` to the number of layers.\n",
    "- Set `encoding_embedding_size` to the size of the embedding for the encoder.\n",
    "- Set `decoding_embedding_size` to the size of the embedding for the decoder.\n",
    "- Set `learning_rate` to the learning rate.\n",
    "- Set `keep_probability` to the Dropout keep probability\n",
    "- Set `display_step` to state how many steps between each debug output statement"
   ]
  },
  {
   "cell_type": "code",
   "execution_count": 51,
   "metadata": {
    "collapsed": true
   },
   "outputs": [],
   "source": [
    "# Number of Epochs\n",
    "epochs = 3\n",
    "# Batch Size\n",
    "batch_size = 256\n",
    "# RNN Size\n",
    "rnn_size = 256\n",
    "# Number of Layers\n",
    "num_layers = 2\n",
    "# Embedding Size\n",
    "encoding_embedding_size = 512\n",
    "decoding_embedding_size = 128\n",
    "# Learning Rate\n",
    "learning_rate = 0.01\n",
    "# Dropout Keep Probability\n",
    "keep_probability = 0.5\n",
    "display_step = 5"
   ]
  },
  {
   "cell_type": "markdown",
   "metadata": {},
   "source": [
    "### Build the Graph\n",
    "Build the graph using the neural network you implemented."
   ]
  },
  {
   "cell_type": "code",
   "execution_count": 52,
   "metadata": {
    "collapsed": true
   },
   "outputs": [],
   "source": [
    "\"\"\"\n",
    "DON'T MODIFY ANYTHING IN THIS CELL\n",
    "\"\"\"\n",
    "save_path = 'checkpoints/dev'\n",
    "(source_int_text, target_int_text), (source_vocab_to_int, target_vocab_to_int), _ = helper.load_preprocess()\n",
    "max_target_sentence_length = max([len(sentence) for sentence in source_int_text])\n",
    "\n",
    "train_graph = tf.Graph()\n",
    "with train_graph.as_default():\n",
    "    input_data, targets, lr, keep_prob, target_sequence_length, max_target_sequence_length, source_sequence_length = model_inputs()\n",
    "\n",
    "    #sequence_length = tf.placeholder_with_default(max_target_sentence_length, None, name='sequence_length')\n",
    "    input_shape = tf.shape(input_data)\n",
    "\n",
    "    train_logits, inference_logits = seq2seq_model(tf.reverse(input_data, [-1]),\n",
    "                                                   targets,\n",
    "                                                   keep_prob,\n",
    "                                                   batch_size,\n",
    "                                                   source_sequence_length,\n",
    "                                                   target_sequence_length,\n",
    "                                                   max_target_sequence_length,\n",
    "                                                   len(source_vocab_to_int),\n",
    "                                                   len(target_vocab_to_int),\n",
    "                                                   encoding_embedding_size,\n",
    "                                                   decoding_embedding_size,\n",
    "                                                   rnn_size,\n",
    "                                                   num_layers,\n",
    "                                                   target_vocab_to_int)\n",
    "\n",
    "\n",
    "    training_logits = tf.identity(train_logits.rnn_output, name='logits')\n",
    "    inference_logits = tf.identity(inference_logits.sample_id, name='predictions')\n",
    "\n",
    "    masks = tf.sequence_mask(target_sequence_length, max_target_sequence_length, dtype=tf.float32, name='masks')\n",
    "\n",
    "    with tf.name_scope(\"optimization\"):\n",
    "        # Loss function\n",
    "        cost = tf.contrib.seq2seq.sequence_loss(\n",
    "            training_logits,\n",
    "            targets,\n",
    "            masks)\n",
    "\n",
    "        # Optimizer\n",
    "        optimizer = tf.train.AdamOptimizer(lr)\n",
    "\n",
    "        # Gradient Clipping\n",
    "        gradients = optimizer.compute_gradients(cost)\n",
    "        capped_gradients = [(tf.clip_by_value(grad, -1., 1.), var) for grad, var in gradients if grad is not None]\n",
    "        train_op = optimizer.apply_gradients(capped_gradients)\n"
   ]
  },
  {
   "cell_type": "markdown",
   "metadata": {},
   "source": [
    "Batch and pad the source and target sequences"
   ]
  },
  {
   "cell_type": "code",
   "execution_count": 53,
   "metadata": {
    "collapsed": true
   },
   "outputs": [],
   "source": [
    "\"\"\"\n",
    "DON'T MODIFY ANYTHING IN THIS CELL\n",
    "\"\"\"\n",
    "def pad_sentence_batch(sentence_batch, pad_int):\n",
    "    \"\"\"Pad sentences with <PAD> so that each sentence of a batch has the same length\"\"\"\n",
    "    max_sentence = max([len(sentence) for sentence in sentence_batch])\n",
    "    return [sentence + [pad_int] * (max_sentence - len(sentence)) for sentence in sentence_batch]\n",
    "\n",
    "\n",
    "def get_batches(sources, targets, batch_size, source_pad_int, target_pad_int):\n",
    "    \"\"\"Batch targets, sources, and the lengths of their sentences together\"\"\"\n",
    "    for batch_i in range(0, len(sources)//batch_size):\n",
    "        start_i = batch_i * batch_size\n",
    "\n",
    "        # Slice the right amount for the batch\n",
    "        sources_batch = sources[start_i:start_i + batch_size]\n",
    "        targets_batch = targets[start_i:start_i + batch_size]\n",
    "\n",
    "        # Pad\n",
    "        pad_sources_batch = np.array(pad_sentence_batch(sources_batch, source_pad_int))\n",
    "        pad_targets_batch = np.array(pad_sentence_batch(targets_batch, target_pad_int))\n",
    "\n",
    "        # Need the lengths for the _lengths parameters\n",
    "        pad_targets_lengths = []\n",
    "        for target in pad_targets_batch:\n",
    "            pad_targets_lengths.append(len(target))\n",
    "\n",
    "        pad_source_lengths = []\n",
    "        for source in pad_sources_batch:\n",
    "            pad_source_lengths.append(len(source))\n",
    "\n",
    "        yield pad_sources_batch, pad_targets_batch, pad_source_lengths, pad_targets_lengths\n"
   ]
  },
  {
   "cell_type": "markdown",
   "metadata": {},
   "source": [
    "### Train\n",
    "Train the neural network on the preprocessed data. If you have a hard time getting a good loss, check the forms to see if anyone is having the same problem."
   ]
  },
  {
   "cell_type": "code",
   "execution_count": 54,
   "metadata": {
    "scrolled": true
   },
   "outputs": [
    {
     "name": "stdout",
     "output_type": "stream",
     "text": [
      "Epoch   0 Batch    5/538 - Train Accuracy: 0.2818, Validation Accuracy: 0.3381, Loss: 3.9603\n",
      "Epoch   0 Batch   10/538 - Train Accuracy: 0.2686, Validation Accuracy: 0.3530, Loss: 3.5702\n",
      "Epoch   0 Batch   15/538 - Train Accuracy: 0.3674, Validation Accuracy: 0.3972, Loss: 3.0771\n",
      "Epoch   0 Batch   20/538 - Train Accuracy: 0.3955, Validation Accuracy: 0.4290, Loss: 2.9199\n",
      "Epoch   0 Batch   25/538 - Train Accuracy: 0.3910, Validation Accuracy: 0.4450, Loss: 2.8517\n",
      "Epoch   0 Batch   30/538 - Train Accuracy: 0.4059, Validation Accuracy: 0.4657, Loss: 2.7617\n",
      "Epoch   0 Batch   35/538 - Train Accuracy: 0.3961, Validation Accuracy: 0.4597, Loss: 2.6239\n",
      "Epoch   0 Batch   40/538 - Train Accuracy: 0.4853, Validation Accuracy: 0.4870, Loss: 2.3018\n",
      "Epoch   0 Batch   45/538 - Train Accuracy: 0.4674, Validation Accuracy: 0.4934, Loss: 2.2901\n",
      "Epoch   0 Batch   50/538 - Train Accuracy: 0.4607, Validation Accuracy: 0.4892, Loss: 2.2922\n",
      "Epoch   0 Batch   55/538 - Train Accuracy: 0.4600, Validation Accuracy: 0.5225, Loss: 2.2384\n",
      "Epoch   0 Batch   60/538 - Train Accuracy: 0.5006, Validation Accuracy: 0.5387, Loss: 2.0948\n",
      "Epoch   0 Batch   65/538 - Train Accuracy: 0.4873, Validation Accuracy: 0.5451, Loss: 2.0313\n",
      "Epoch   0 Batch   70/538 - Train Accuracy: 0.5219, Validation Accuracy: 0.5291, Loss: 1.7462\n",
      "Epoch   0 Batch   75/538 - Train Accuracy: 0.5290, Validation Accuracy: 0.5481, Loss: 1.6111\n",
      "Epoch   0 Batch   80/538 - Train Accuracy: 0.5199, Validation Accuracy: 0.5469, Loss: 1.5502\n",
      "Epoch   0 Batch   85/538 - Train Accuracy: 0.5268, Validation Accuracy: 0.5346, Loss: 1.2948\n",
      "Epoch   0 Batch   90/538 - Train Accuracy: 0.4412, Validation Accuracy: 0.4677, Loss: 1.2531\n",
      "Epoch   0 Batch   95/538 - Train Accuracy: 0.4350, Validation Accuracy: 0.4453, Loss: 1.0982\n",
      "Epoch   0 Batch  100/538 - Train Accuracy: 0.5232, Validation Accuracy: 0.5282, Loss: 1.1051\n",
      "Epoch   0 Batch  105/538 - Train Accuracy: 0.5110, Validation Accuracy: 0.5307, Loss: 1.0190\n",
      "Epoch   0 Batch  110/538 - Train Accuracy: 0.5088, Validation Accuracy: 0.5499, Loss: 1.0338\n",
      "Epoch   0 Batch  115/538 - Train Accuracy: 0.5436, Validation Accuracy: 0.5572, Loss: 0.9928\n",
      "Epoch   0 Batch  120/538 - Train Accuracy: 0.5273, Validation Accuracy: 0.5565, Loss: 0.9260\n",
      "Epoch   0 Batch  125/538 - Train Accuracy: 0.5588, Validation Accuracy: 0.5621, Loss: 0.8830\n",
      "Epoch   0 Batch  130/538 - Train Accuracy: 0.5374, Validation Accuracy: 0.5589, Loss: 0.8628\n",
      "Epoch   0 Batch  135/538 - Train Accuracy: 0.5523, Validation Accuracy: 0.5600, Loss: 0.8549\n",
      "Epoch   0 Batch  140/538 - Train Accuracy: 0.5381, Validation Accuracy: 0.5811, Loss: 0.9051\n",
      "Epoch   0 Batch  145/538 - Train Accuracy: 0.5722, Validation Accuracy: 0.5856, Loss: 0.8247\n",
      "Epoch   0 Batch  150/538 - Train Accuracy: 0.5605, Validation Accuracy: 0.5849, Loss: 0.8149\n",
      "Epoch   0 Batch  155/538 - Train Accuracy: 0.6127, Validation Accuracy: 0.6062, Loss: 0.7808\n",
      "Epoch   0 Batch  160/538 - Train Accuracy: 0.5759, Validation Accuracy: 0.5907, Loss: 0.7423\n",
      "Epoch   0 Batch  165/538 - Train Accuracy: 0.5941, Validation Accuracy: 0.5978, Loss: 0.7088\n",
      "Epoch   0 Batch  170/538 - Train Accuracy: 0.5852, Validation Accuracy: 0.5938, Loss: 0.7395\n",
      "Epoch   0 Batch  175/538 - Train Accuracy: 0.5756, Validation Accuracy: 0.6143, Loss: 0.7519\n",
      "Epoch   0 Batch  180/538 - Train Accuracy: 0.6321, Validation Accuracy: 0.6080, Loss: 0.7017\n",
      "Epoch   0 Batch  185/538 - Train Accuracy: 0.6043, Validation Accuracy: 0.6197, Loss: 0.6951\n",
      "Epoch   0 Batch  190/538 - Train Accuracy: 0.6086, Validation Accuracy: 0.6133, Loss: 0.7031\n",
      "Epoch   0 Batch  195/538 - Train Accuracy: 0.6295, Validation Accuracy: 0.6234, Loss: 0.6637\n",
      "Epoch   0 Batch  200/538 - Train Accuracy: 0.6291, Validation Accuracy: 0.6250, Loss: 0.6698\n",
      "Epoch   0 Batch  205/538 - Train Accuracy: 0.6365, Validation Accuracy: 0.6291, Loss: 0.6272\n",
      "Epoch   0 Batch  210/538 - Train Accuracy: 0.6124, Validation Accuracy: 0.6397, Loss: 0.6479\n",
      "Epoch   0 Batch  215/538 - Train Accuracy: 0.6141, Validation Accuracy: 0.6426, Loss: 0.6491\n",
      "Epoch   0 Batch  220/538 - Train Accuracy: 0.6120, Validation Accuracy: 0.6445, Loss: 0.6136\n",
      "Epoch   0 Batch  225/538 - Train Accuracy: 0.6237, Validation Accuracy: 0.6420, Loss: 0.6191\n",
      "Epoch   0 Batch  230/538 - Train Accuracy: 0.6137, Validation Accuracy: 0.6420, Loss: 0.6284\n",
      "Epoch   0 Batch  235/538 - Train Accuracy: 0.6337, Validation Accuracy: 0.6534, Loss: 0.5916\n",
      "Epoch   0 Batch  240/538 - Train Accuracy: 0.6359, Validation Accuracy: 0.6630, Loss: 0.6115\n",
      "Epoch   0 Batch  245/538 - Train Accuracy: 0.6174, Validation Accuracy: 0.6477, Loss: 0.6218\n",
      "Epoch   0 Batch  250/538 - Train Accuracy: 0.6346, Validation Accuracy: 0.6303, Loss: 0.5914\n",
      "Epoch   0 Batch  255/538 - Train Accuracy: 0.6516, Validation Accuracy: 0.6664, Loss: 0.5760\n",
      "Epoch   0 Batch  260/538 - Train Accuracy: 0.6529, Validation Accuracy: 0.6703, Loss: 0.5638\n",
      "Epoch   0 Batch  265/538 - Train Accuracy: 0.6211, Validation Accuracy: 0.6657, Loss: 0.5985\n",
      "Epoch   0 Batch  270/538 - Train Accuracy: 0.6564, Validation Accuracy: 0.6648, Loss: 0.5671\n",
      "Epoch   0 Batch  275/538 - Train Accuracy: 0.6490, Validation Accuracy: 0.6710, Loss: 0.5850\n",
      "Epoch   0 Batch  280/538 - Train Accuracy: 0.6988, Validation Accuracy: 0.6749, Loss: 0.5253\n",
      "Epoch   0 Batch  285/538 - Train Accuracy: 0.6823, Validation Accuracy: 0.6792, Loss: 0.5230\n",
      "Epoch   0 Batch  290/538 - Train Accuracy: 0.6645, Validation Accuracy: 0.6985, Loss: 0.5268\n",
      "Epoch   0 Batch  295/538 - Train Accuracy: 0.7077, Validation Accuracy: 0.6779, Loss: 0.5110\n",
      "Epoch   0 Batch  300/538 - Train Accuracy: 0.6799, Validation Accuracy: 0.7056, Loss: 0.5224\n",
      "Epoch   0 Batch  305/538 - Train Accuracy: 0.6767, Validation Accuracy: 0.6843, Loss: 0.5121\n",
      "Epoch   0 Batch  310/538 - Train Accuracy: 0.7078, Validation Accuracy: 0.7157, Loss: 0.5192\n",
      "Epoch   0 Batch  315/538 - Train Accuracy: 0.6834, Validation Accuracy: 0.7115, Loss: 0.4971\n",
      "Epoch   0 Batch  320/538 - Train Accuracy: 0.6933, Validation Accuracy: 0.7061, Loss: 0.5081\n",
      "Epoch   0 Batch  325/538 - Train Accuracy: 0.7344, Validation Accuracy: 0.7198, Loss: 0.4901\n",
      "Epoch   0 Batch  330/538 - Train Accuracy: 0.7145, Validation Accuracy: 0.7179, Loss: 0.4749\n",
      "Epoch   0 Batch  335/538 - Train Accuracy: 0.6948, Validation Accuracy: 0.6914, Loss: 0.4781\n",
      "Epoch   0 Batch  340/538 - Train Accuracy: 0.6787, Validation Accuracy: 0.7164, Loss: 0.5114\n",
      "Epoch   0 Batch  345/538 - Train Accuracy: 0.7221, Validation Accuracy: 0.7218, Loss: 0.4821\n",
      "Epoch   0 Batch  350/538 - Train Accuracy: 0.7106, Validation Accuracy: 0.7251, Loss: 0.4751\n",
      "Epoch   0 Batch  355/538 - Train Accuracy: 0.7172, Validation Accuracy: 0.7203, Loss: 0.4892\n",
      "Epoch   0 Batch  360/538 - Train Accuracy: 0.7115, Validation Accuracy: 0.7228, Loss: 0.4614\n",
      "Epoch   0 Batch  365/538 - Train Accuracy: 0.7163, Validation Accuracy: 0.7202, Loss: 0.4426\n",
      "Epoch   0 Batch  370/538 - Train Accuracy: 0.7314, Validation Accuracy: 0.7282, Loss: 0.4583\n",
      "Epoch   0 Batch  375/538 - Train Accuracy: 0.7372, Validation Accuracy: 0.7177, Loss: 0.4155\n",
      "Epoch   0 Batch  380/538 - Train Accuracy: 0.7369, Validation Accuracy: 0.7289, Loss: 0.4319\n",
      "Epoch   0 Batch  385/538 - Train Accuracy: 0.7325, Validation Accuracy: 0.7262, Loss: 0.4169\n",
      "Epoch   0 Batch  390/538 - Train Accuracy: 0.7753, Validation Accuracy: 0.7227, Loss: 0.4012\n",
      "Epoch   0 Batch  395/538 - Train Accuracy: 0.7260, Validation Accuracy: 0.7209, Loss: 0.4166\n",
      "Epoch   0 Batch  400/538 - Train Accuracy: 0.7450, Validation Accuracy: 0.7283, Loss: 0.4035\n",
      "Epoch   0 Batch  405/538 - Train Accuracy: 0.7262, Validation Accuracy: 0.7450, Loss: 0.3808\n",
      "Epoch   0 Batch  410/538 - Train Accuracy: 0.7641, Validation Accuracy: 0.7294, Loss: 0.4049\n",
      "Epoch   0 Batch  415/538 - Train Accuracy: 0.7256, Validation Accuracy: 0.7386, Loss: 0.4014\n",
      "Epoch   0 Batch  420/538 - Train Accuracy: 0.7887, Validation Accuracy: 0.7605, Loss: 0.3724\n",
      "Epoch   0 Batch  425/538 - Train Accuracy: 0.7703, Validation Accuracy: 0.7489, Loss: 0.3707\n",
      "Epoch   0 Batch  430/538 - Train Accuracy: 0.7566, Validation Accuracy: 0.7505, Loss: 0.3600\n",
      "Epoch   0 Batch  435/538 - Train Accuracy: 0.7830, Validation Accuracy: 0.7741, Loss: 0.3584\n",
      "Epoch   0 Batch  440/538 - Train Accuracy: 0.7711, Validation Accuracy: 0.7789, Loss: 0.3751\n",
      "Epoch   0 Batch  445/538 - Train Accuracy: 0.7971, Validation Accuracy: 0.7626, Loss: 0.3393\n"
     ]
    },
    {
     "name": "stdout",
     "output_type": "stream",
     "text": [
      "Epoch   0 Batch  450/538 - Train Accuracy: 0.7746, Validation Accuracy: 0.7649, Loss: 0.3596\n",
      "Epoch   0 Batch  455/538 - Train Accuracy: 0.7853, Validation Accuracy: 0.7699, Loss: 0.3206\n",
      "Epoch   0 Batch  460/538 - Train Accuracy: 0.7751, Validation Accuracy: 0.7798, Loss: 0.3336\n",
      "Epoch   0 Batch  465/538 - Train Accuracy: 0.7773, Validation Accuracy: 0.7637, Loss: 0.3286\n",
      "Epoch   0 Batch  470/538 - Train Accuracy: 0.7948, Validation Accuracy: 0.7727, Loss: 0.3067\n",
      "Epoch   0 Batch  475/538 - Train Accuracy: 0.8071, Validation Accuracy: 0.7812, Loss: 0.3050\n",
      "Epoch   0 Batch  480/538 - Train Accuracy: 0.8170, Validation Accuracy: 0.7676, Loss: 0.3120\n",
      "Epoch   0 Batch  485/538 - Train Accuracy: 0.8207, Validation Accuracy: 0.7750, Loss: 0.2947\n",
      "Epoch   0 Batch  490/538 - Train Accuracy: 0.8112, Validation Accuracy: 0.7656, Loss: 0.3072\n",
      "Epoch   0 Batch  495/538 - Train Accuracy: 0.7949, Validation Accuracy: 0.7834, Loss: 0.3078\n",
      "Epoch   0 Batch  500/538 - Train Accuracy: 0.8418, Validation Accuracy: 0.7816, Loss: 0.2674\n",
      "Epoch   0 Batch  505/538 - Train Accuracy: 0.8025, Validation Accuracy: 0.7757, Loss: 0.2851\n",
      "Epoch   0 Batch  510/538 - Train Accuracy: 0.8266, Validation Accuracy: 0.7953, Loss: 0.2849\n",
      "Epoch   0 Batch  515/538 - Train Accuracy: 0.8289, Validation Accuracy: 0.8013, Loss: 0.3009\n",
      "Epoch   0 Batch  520/538 - Train Accuracy: 0.7979, Validation Accuracy: 0.7720, Loss: 0.3035\n",
      "Epoch   0 Batch  525/538 - Train Accuracy: 0.8266, Validation Accuracy: 0.8137, Loss: 0.2660\n",
      "Epoch   0 Batch  530/538 - Train Accuracy: 0.8082, Validation Accuracy: 0.8059, Loss: 0.2906\n",
      "Epoch   0 Batch  535/538 - Train Accuracy: 0.8205, Validation Accuracy: 0.7965, Loss: 0.2596\n",
      "Epoch   1 Batch    5/538 - Train Accuracy: 0.8002, Validation Accuracy: 0.8042, Loss: 0.2889\n",
      "Epoch   1 Batch   10/538 - Train Accuracy: 0.8176, Validation Accuracy: 0.8054, Loss: 0.2758\n",
      "Epoch   1 Batch   15/538 - Train Accuracy: 0.8287, Validation Accuracy: 0.8045, Loss: 0.2523\n",
      "Epoch   1 Batch   20/538 - Train Accuracy: 0.8214, Validation Accuracy: 0.8034, Loss: 0.2662\n",
      "Epoch   1 Batch   25/538 - Train Accuracy: 0.8365, Validation Accuracy: 0.8233, Loss: 0.2483\n",
      "Epoch   1 Batch   30/538 - Train Accuracy: 0.8029, Validation Accuracy: 0.7885, Loss: 0.2563\n",
      "Epoch   1 Batch   35/538 - Train Accuracy: 0.8197, Validation Accuracy: 0.8121, Loss: 0.2392\n",
      "Epoch   1 Batch   40/538 - Train Accuracy: 0.8684, Validation Accuracy: 0.8313, Loss: 0.2039\n",
      "Epoch   1 Batch   45/538 - Train Accuracy: 0.8677, Validation Accuracy: 0.8198, Loss: 0.2217\n",
      "Epoch   1 Batch   50/538 - Train Accuracy: 0.8463, Validation Accuracy: 0.8306, Loss: 0.2290\n",
      "Epoch   1 Batch   55/538 - Train Accuracy: 0.8391, Validation Accuracy: 0.8233, Loss: 0.2389\n",
      "Epoch   1 Batch   60/538 - Train Accuracy: 0.8842, Validation Accuracy: 0.8386, Loss: 0.2150\n",
      "Epoch   1 Batch   65/538 - Train Accuracy: 0.8316, Validation Accuracy: 0.8162, Loss: 0.2323\n",
      "Epoch   1 Batch   70/538 - Train Accuracy: 0.8514, Validation Accuracy: 0.8139, Loss: 0.2115\n",
      "Epoch   1 Batch   75/538 - Train Accuracy: 0.8631, Validation Accuracy: 0.8301, Loss: 0.2072\n",
      "Epoch   1 Batch   80/538 - Train Accuracy: 0.8395, Validation Accuracy: 0.8477, Loss: 0.2252\n",
      "Epoch   1 Batch   85/538 - Train Accuracy: 0.8777, Validation Accuracy: 0.8450, Loss: 0.1880\n",
      "Epoch   1 Batch   90/538 - Train Accuracy: 0.8434, Validation Accuracy: 0.8406, Loss: 0.2221\n",
      "Epoch   1 Batch   95/538 - Train Accuracy: 0.8663, Validation Accuracy: 0.8560, Loss: 0.2061\n",
      "Epoch   1 Batch  100/538 - Train Accuracy: 0.8717, Validation Accuracy: 0.8308, Loss: 0.2027\n",
      "Epoch   1 Batch  105/538 - Train Accuracy: 0.8625, Validation Accuracy: 0.8223, Loss: 0.1785\n",
      "Epoch   1 Batch  110/538 - Train Accuracy: 0.8676, Validation Accuracy: 0.8365, Loss: 0.2024\n",
      "Epoch   1 Batch  115/538 - Train Accuracy: 0.8658, Validation Accuracy: 0.8352, Loss: 0.1955\n",
      "Epoch   1 Batch  120/538 - Train Accuracy: 0.8857, Validation Accuracy: 0.8574, Loss: 0.1662\n",
      "Epoch   1 Batch  125/538 - Train Accuracy: 0.8573, Validation Accuracy: 0.8535, Loss: 0.1852\n",
      "Epoch   1 Batch  130/538 - Train Accuracy: 0.8819, Validation Accuracy: 0.8587, Loss: 0.1689\n",
      "Epoch   1 Batch  135/538 - Train Accuracy: 0.8735, Validation Accuracy: 0.8505, Loss: 0.1897\n",
      "Epoch   1 Batch  140/538 - Train Accuracy: 0.8562, Validation Accuracy: 0.8468, Loss: 0.1918\n",
      "Epoch   1 Batch  145/538 - Train Accuracy: 0.8477, Validation Accuracy: 0.8580, Loss: 0.1901\n",
      "Epoch   1 Batch  150/538 - Train Accuracy: 0.8637, Validation Accuracy: 0.8418, Loss: 0.1618\n",
      "Epoch   1 Batch  155/538 - Train Accuracy: 0.8562, Validation Accuracy: 0.8388, Loss: 0.1693\n",
      "Epoch   1 Batch  160/538 - Train Accuracy: 0.8724, Validation Accuracy: 0.8512, Loss: 0.1539\n",
      "Epoch   1 Batch  165/538 - Train Accuracy: 0.8772, Validation Accuracy: 0.8509, Loss: 0.1579\n",
      "Epoch   1 Batch  170/538 - Train Accuracy: 0.8769, Validation Accuracy: 0.8580, Loss: 0.1688\n",
      "Epoch   1 Batch  175/538 - Train Accuracy: 0.8729, Validation Accuracy: 0.8469, Loss: 0.1556\n",
      "Epoch   1 Batch  180/538 - Train Accuracy: 0.8897, Validation Accuracy: 0.8423, Loss: 0.1516\n",
      "Epoch   1 Batch  185/538 - Train Accuracy: 0.9047, Validation Accuracy: 0.8519, Loss: 0.1363\n",
      "Epoch   1 Batch  190/538 - Train Accuracy: 0.8813, Validation Accuracy: 0.8754, Loss: 0.1861\n",
      "Epoch   1 Batch  195/538 - Train Accuracy: 0.8756, Validation Accuracy: 0.8626, Loss: 0.1672\n",
      "Epoch   1 Batch  200/538 - Train Accuracy: 0.8893, Validation Accuracy: 0.8627, Loss: 0.1428\n",
      "Epoch   1 Batch  205/538 - Train Accuracy: 0.8912, Validation Accuracy: 0.8645, Loss: 0.1428\n",
      "Epoch   1 Batch  210/538 - Train Accuracy: 0.8540, Validation Accuracy: 0.8624, Loss: 0.1555\n",
      "Epoch   1 Batch  215/538 - Train Accuracy: 0.8803, Validation Accuracy: 0.8656, Loss: 0.1514\n",
      "Epoch   1 Batch  220/538 - Train Accuracy: 0.8718, Validation Accuracy: 0.8729, Loss: 0.1355\n",
      "Epoch   1 Batch  225/538 - Train Accuracy: 0.8992, Validation Accuracy: 0.8544, Loss: 0.1483\n",
      "Epoch   1 Batch  230/538 - Train Accuracy: 0.8650, Validation Accuracy: 0.8532, Loss: 0.1446\n",
      "Epoch   1 Batch  235/538 - Train Accuracy: 0.9133, Validation Accuracy: 0.8670, Loss: 0.1264\n",
      "Epoch   1 Batch  240/538 - Train Accuracy: 0.8938, Validation Accuracy: 0.8679, Loss: 0.1470\n",
      "Epoch   1 Batch  245/538 - Train Accuracy: 0.8844, Validation Accuracy: 0.8807, Loss: 0.1607\n",
      "Epoch   1 Batch  250/538 - Train Accuracy: 0.8793, Validation Accuracy: 0.8707, Loss: 0.1423\n",
      "Epoch   1 Batch  255/538 - Train Accuracy: 0.8945, Validation Accuracy: 0.8699, Loss: 0.1402\n",
      "Epoch   1 Batch  260/538 - Train Accuracy: 0.8558, Validation Accuracy: 0.8581, Loss: 0.1511\n",
      "Epoch   1 Batch  265/538 - Train Accuracy: 0.8807, Validation Accuracy: 0.8642, Loss: 0.1570\n",
      "Epoch   1 Batch  270/538 - Train Accuracy: 0.8932, Validation Accuracy: 0.8674, Loss: 0.1374\n",
      "Epoch   1 Batch  275/538 - Train Accuracy: 0.8855, Validation Accuracy: 0.8736, Loss: 0.1465\n",
      "Epoch   1 Batch  280/538 - Train Accuracy: 0.9022, Validation Accuracy: 0.8746, Loss: 0.1206\n",
      "Epoch   1 Batch  285/538 - Train Accuracy: 0.8960, Validation Accuracy: 0.8627, Loss: 0.1126\n",
      "Epoch   1 Batch  290/538 - Train Accuracy: 0.9230, Validation Accuracy: 0.8830, Loss: 0.1234\n",
      "Epoch   1 Batch  295/538 - Train Accuracy: 0.8928, Validation Accuracy: 0.8837, Loss: 0.1232\n",
      "Epoch   1 Batch  300/538 - Train Accuracy: 0.9031, Validation Accuracy: 0.8999, Loss: 0.1250\n",
      "Epoch   1 Batch  305/538 - Train Accuracy: 0.9209, Validation Accuracy: 0.8867, Loss: 0.1144\n",
      "Epoch   1 Batch  310/538 - Train Accuracy: 0.9314, Validation Accuracy: 0.8873, Loss: 0.1250\n",
      "Epoch   1 Batch  315/538 - Train Accuracy: 0.8929, Validation Accuracy: 0.8876, Loss: 0.1242\n",
      "Epoch   1 Batch  320/538 - Train Accuracy: 0.8832, Validation Accuracy: 0.8894, Loss: 0.1140\n",
      "Epoch   1 Batch  325/538 - Train Accuracy: 0.8949, Validation Accuracy: 0.8786, Loss: 0.1216\n",
      "Epoch   1 Batch  330/538 - Train Accuracy: 0.9222, Validation Accuracy: 0.8809, Loss: 0.1199\n",
      "Epoch   1 Batch  335/538 - Train Accuracy: 0.9009, Validation Accuracy: 0.8794, Loss: 0.1213\n",
      "Epoch   1 Batch  340/538 - Train Accuracy: 0.8537, Validation Accuracy: 0.8658, Loss: 0.1208\n",
      "Epoch   1 Batch  345/538 - Train Accuracy: 0.8977, Validation Accuracy: 0.8837, Loss: 0.1269\n",
      "Epoch   1 Batch  350/538 - Train Accuracy: 0.8971, Validation Accuracy: 0.8770, Loss: 0.1263\n",
      "Epoch   1 Batch  355/538 - Train Accuracy: 0.8869, Validation Accuracy: 0.8748, Loss: 0.1183\n"
     ]
    },
    {
     "name": "stdout",
     "output_type": "stream",
     "text": [
      "Epoch   1 Batch  360/538 - Train Accuracy: 0.8963, Validation Accuracy: 0.8817, Loss: 0.1190\n",
      "Epoch   1 Batch  365/538 - Train Accuracy: 0.8834, Validation Accuracy: 0.8723, Loss: 0.1231\n",
      "Epoch   1 Batch  370/538 - Train Accuracy: 0.8996, Validation Accuracy: 0.8770, Loss: 0.1238\n",
      "Epoch   1 Batch  375/538 - Train Accuracy: 0.9068, Validation Accuracy: 0.8754, Loss: 0.1013\n",
      "Epoch   1 Batch  380/538 - Train Accuracy: 0.8932, Validation Accuracy: 0.8784, Loss: 0.1055\n",
      "Epoch   1 Batch  385/538 - Train Accuracy: 0.9265, Validation Accuracy: 0.8706, Loss: 0.0985\n",
      "Epoch   1 Batch  390/538 - Train Accuracy: 0.9035, Validation Accuracy: 0.8805, Loss: 0.0984\n",
      "Epoch   1 Batch  395/538 - Train Accuracy: 0.8967, Validation Accuracy: 0.8823, Loss: 0.1125\n",
      "Epoch   1 Batch  400/538 - Train Accuracy: 0.9057, Validation Accuracy: 0.8947, Loss: 0.1065\n",
      "Epoch   1 Batch  405/538 - Train Accuracy: 0.8951, Validation Accuracy: 0.8899, Loss: 0.1061\n",
      "Epoch   1 Batch  410/538 - Train Accuracy: 0.9133, Validation Accuracy: 0.8922, Loss: 0.1143\n",
      "Epoch   1 Batch  415/538 - Train Accuracy: 0.8791, Validation Accuracy: 0.9020, Loss: 0.1088\n",
      "Epoch   1 Batch  420/538 - Train Accuracy: 0.9053, Validation Accuracy: 0.8929, Loss: 0.1048\n",
      "Epoch   1 Batch  425/538 - Train Accuracy: 0.8973, Validation Accuracy: 0.8951, Loss: 0.1218\n",
      "Epoch   1 Batch  430/538 - Train Accuracy: 0.9092, Validation Accuracy: 0.9013, Loss: 0.0963\n",
      "Epoch   1 Batch  435/538 - Train Accuracy: 0.9221, Validation Accuracy: 0.9023, Loss: 0.0933\n",
      "Epoch   1 Batch  440/538 - Train Accuracy: 0.8971, Validation Accuracy: 0.9041, Loss: 0.1207\n",
      "Epoch   1 Batch  445/538 - Train Accuracy: 0.9348, Validation Accuracy: 0.9048, Loss: 0.0945\n",
      "Epoch   1 Batch  450/538 - Train Accuracy: 0.9105, Validation Accuracy: 0.9080, Loss: 0.1234\n",
      "Epoch   1 Batch  455/538 - Train Accuracy: 0.9185, Validation Accuracy: 0.9142, Loss: 0.0978\n",
      "Epoch   1 Batch  460/538 - Train Accuracy: 0.8912, Validation Accuracy: 0.9054, Loss: 0.1084\n",
      "Epoch   1 Batch  465/538 - Train Accuracy: 0.9176, Validation Accuracy: 0.8967, Loss: 0.0913\n",
      "Epoch   1 Batch  470/538 - Train Accuracy: 0.9180, Validation Accuracy: 0.8949, Loss: 0.1004\n",
      "Epoch   1 Batch  475/538 - Train Accuracy: 0.9128, Validation Accuracy: 0.8913, Loss: 0.1005\n",
      "Epoch   1 Batch  480/538 - Train Accuracy: 0.9275, Validation Accuracy: 0.9119, Loss: 0.1048\n",
      "Epoch   1 Batch  485/538 - Train Accuracy: 0.9407, Validation Accuracy: 0.8896, Loss: 0.1053\n",
      "Epoch   1 Batch  490/538 - Train Accuracy: 0.9157, Validation Accuracy: 0.9023, Loss: 0.0931\n",
      "Epoch   1 Batch  495/538 - Train Accuracy: 0.9201, Validation Accuracy: 0.8965, Loss: 0.1058\n",
      "Epoch   1 Batch  500/538 - Train Accuracy: 0.9355, Validation Accuracy: 0.9089, Loss: 0.0746\n",
      "Epoch   1 Batch  505/538 - Train Accuracy: 0.9269, Validation Accuracy: 0.9055, Loss: 0.0796\n",
      "Epoch   1 Batch  510/538 - Train Accuracy: 0.9150, Validation Accuracy: 0.9091, Loss: 0.0903\n",
      "Epoch   1 Batch  515/538 - Train Accuracy: 0.9228, Validation Accuracy: 0.9009, Loss: 0.1116\n",
      "Epoch   1 Batch  520/538 - Train Accuracy: 0.9234, Validation Accuracy: 0.9006, Loss: 0.0919\n",
      "Epoch   1 Batch  525/538 - Train Accuracy: 0.9379, Validation Accuracy: 0.9041, Loss: 0.0915\n",
      "Epoch   1 Batch  530/538 - Train Accuracy: 0.8955, Validation Accuracy: 0.9013, Loss: 0.1014\n",
      "Epoch   1 Batch  535/538 - Train Accuracy: 0.9062, Validation Accuracy: 0.8913, Loss: 0.1011\n",
      "Epoch   2 Batch    5/538 - Train Accuracy: 0.9076, Validation Accuracy: 0.8912, Loss: 0.0973\n",
      "Epoch   2 Batch   10/538 - Train Accuracy: 0.9160, Validation Accuracy: 0.8798, Loss: 0.1006\n",
      "Epoch   2 Batch   15/538 - Train Accuracy: 0.9092, Validation Accuracy: 0.9004, Loss: 0.0982\n",
      "Epoch   2 Batch   20/538 - Train Accuracy: 0.9262, Validation Accuracy: 0.8880, Loss: 0.0925\n",
      "Epoch   2 Batch   25/538 - Train Accuracy: 0.9174, Validation Accuracy: 0.9103, Loss: 0.0925\n",
      "Epoch   2 Batch   30/538 - Train Accuracy: 0.9088, Validation Accuracy: 0.8979, Loss: 0.1062\n",
      "Epoch   2 Batch   35/538 - Train Accuracy: 0.9068, Validation Accuracy: 0.9125, Loss: 0.0788\n",
      "Epoch   2 Batch   40/538 - Train Accuracy: 0.9258, Validation Accuracy: 0.9052, Loss: 0.0781\n",
      "Epoch   2 Batch   45/538 - Train Accuracy: 0.9250, Validation Accuracy: 0.9036, Loss: 0.0880\n",
      "Epoch   2 Batch   50/538 - Train Accuracy: 0.9215, Validation Accuracy: 0.8993, Loss: 0.0915\n",
      "Epoch   2 Batch   55/538 - Train Accuracy: 0.9078, Validation Accuracy: 0.8924, Loss: 0.0909\n",
      "Epoch   2 Batch   60/538 - Train Accuracy: 0.9408, Validation Accuracy: 0.9022, Loss: 0.0796\n",
      "Epoch   2 Batch   65/538 - Train Accuracy: 0.9088, Validation Accuracy: 0.9068, Loss: 0.0840\n",
      "Epoch   2 Batch   70/538 - Train Accuracy: 0.9286, Validation Accuracy: 0.9073, Loss: 0.0844\n",
      "Epoch   2 Batch   75/538 - Train Accuracy: 0.9122, Validation Accuracy: 0.9125, Loss: 0.0952\n",
      "Epoch   2 Batch   80/538 - Train Accuracy: 0.9254, Validation Accuracy: 0.9103, Loss: 0.0898\n",
      "Epoch   2 Batch   85/538 - Train Accuracy: 0.9361, Validation Accuracy: 0.9112, Loss: 0.0733\n",
      "Epoch   2 Batch   90/538 - Train Accuracy: 0.9221, Validation Accuracy: 0.9016, Loss: 0.0928\n",
      "Epoch   2 Batch   95/538 - Train Accuracy: 0.9130, Validation Accuracy: 0.9078, Loss: 0.0788\n",
      "Epoch   2 Batch  100/538 - Train Accuracy: 0.9221, Validation Accuracy: 0.9062, Loss: 0.0806\n",
      "Epoch   2 Batch  105/538 - Train Accuracy: 0.9131, Validation Accuracy: 0.9080, Loss: 0.0703\n",
      "Epoch   2 Batch  110/538 - Train Accuracy: 0.9152, Validation Accuracy: 0.9070, Loss: 0.0862\n",
      "Epoch   2 Batch  115/538 - Train Accuracy: 0.9207, Validation Accuracy: 0.9103, Loss: 0.0890\n",
      "Epoch   2 Batch  120/538 - Train Accuracy: 0.9473, Validation Accuracy: 0.9094, Loss: 0.0683\n",
      "Epoch   2 Batch  125/538 - Train Accuracy: 0.9249, Validation Accuracy: 0.9212, Loss: 0.0844\n",
      "Epoch   2 Batch  130/538 - Train Accuracy: 0.9488, Validation Accuracy: 0.9174, Loss: 0.0804\n",
      "Epoch   2 Batch  135/538 - Train Accuracy: 0.9191, Validation Accuracy: 0.9256, Loss: 0.1011\n",
      "Epoch   2 Batch  140/538 - Train Accuracy: 0.9180, Validation Accuracy: 0.9181, Loss: 0.1040\n",
      "Epoch   2 Batch  145/538 - Train Accuracy: 0.9085, Validation Accuracy: 0.9125, Loss: 0.0970\n",
      "Epoch   2 Batch  150/538 - Train Accuracy: 0.9258, Validation Accuracy: 0.8995, Loss: 0.0811\n",
      "Epoch   2 Batch  155/538 - Train Accuracy: 0.9109, Validation Accuracy: 0.9148, Loss: 0.0892\n",
      "Epoch   2 Batch  160/538 - Train Accuracy: 0.9029, Validation Accuracy: 0.9086, Loss: 0.0803\n",
      "Epoch   2 Batch  165/538 - Train Accuracy: 0.9278, Validation Accuracy: 0.9084, Loss: 0.0719\n",
      "Epoch   2 Batch  170/538 - Train Accuracy: 0.9191, Validation Accuracy: 0.9164, Loss: 0.0875\n",
      "Epoch   2 Batch  175/538 - Train Accuracy: 0.9275, Validation Accuracy: 0.9043, Loss: 0.0772\n",
      "Epoch   2 Batch  180/538 - Train Accuracy: 0.9353, Validation Accuracy: 0.9116, Loss: 0.0743\n",
      "Epoch   2 Batch  185/538 - Train Accuracy: 0.9467, Validation Accuracy: 0.9206, Loss: 0.0719\n",
      "Epoch   2 Batch  190/538 - Train Accuracy: 0.9016, Validation Accuracy: 0.9100, Loss: 0.1206\n",
      "Epoch   2 Batch  195/538 - Train Accuracy: 0.9332, Validation Accuracy: 0.9160, Loss: 0.0979\n",
      "Epoch   2 Batch  200/538 - Train Accuracy: 0.9271, Validation Accuracy: 0.8984, Loss: 0.0701\n",
      "Epoch   2 Batch  205/538 - Train Accuracy: 0.9351, Validation Accuracy: 0.9006, Loss: 0.0782\n",
      "Epoch   2 Batch  210/538 - Train Accuracy: 0.9152, Validation Accuracy: 0.9070, Loss: 0.0854\n",
      "Epoch   2 Batch  215/538 - Train Accuracy: 0.9428, Validation Accuracy: 0.9187, Loss: 0.0745\n",
      "Epoch   2 Batch  220/538 - Train Accuracy: 0.9103, Validation Accuracy: 0.9039, Loss: 0.0814\n",
      "Epoch   2 Batch  225/538 - Train Accuracy: 0.9312, Validation Accuracy: 0.9059, Loss: 0.0816\n",
      "Epoch   2 Batch  230/538 - Train Accuracy: 0.9139, Validation Accuracy: 0.9215, Loss: 0.0777\n",
      "Epoch   2 Batch  235/538 - Train Accuracy: 0.9397, Validation Accuracy: 0.9015, Loss: 0.0693\n",
      "Epoch   2 Batch  240/538 - Train Accuracy: 0.9279, Validation Accuracy: 0.9181, Loss: 0.0809\n",
      "Epoch   2 Batch  245/538 - Train Accuracy: 0.9246, Validation Accuracy: 0.9080, Loss: 0.0914\n",
      "Epoch   2 Batch  250/538 - Train Accuracy: 0.9311, Validation Accuracy: 0.8995, Loss: 0.0725\n",
      "Epoch   2 Batch  255/538 - Train Accuracy: 0.9357, Validation Accuracy: 0.9327, Loss: 0.0770\n",
      "Epoch   2 Batch  260/538 - Train Accuracy: 0.9059, Validation Accuracy: 0.9192, Loss: 0.0876\n",
      "Epoch   2 Batch  265/538 - Train Accuracy: 0.9053, Validation Accuracy: 0.9112, Loss: 0.0874\n"
     ]
    },
    {
     "name": "stdout",
     "output_type": "stream",
     "text": [
      "Epoch   2 Batch  270/538 - Train Accuracy: 0.9133, Validation Accuracy: 0.9242, Loss: 0.0728\n",
      "Epoch   2 Batch  275/538 - Train Accuracy: 0.9160, Validation Accuracy: 0.9183, Loss: 0.0801\n",
      "Epoch   2 Batch  280/538 - Train Accuracy: 0.9431, Validation Accuracy: 0.9171, Loss: 0.0660\n",
      "Epoch   2 Batch  285/538 - Train Accuracy: 0.9295, Validation Accuracy: 0.9205, Loss: 0.0640\n",
      "Epoch   2 Batch  290/538 - Train Accuracy: 0.9418, Validation Accuracy: 0.9086, Loss: 0.0703\n",
      "Epoch   2 Batch  295/538 - Train Accuracy: 0.9363, Validation Accuracy: 0.9231, Loss: 0.0768\n",
      "Epoch   2 Batch  300/538 - Train Accuracy: 0.9334, Validation Accuracy: 0.9261, Loss: 0.0762\n",
      "Epoch   2 Batch  305/538 - Train Accuracy: 0.9262, Validation Accuracy: 0.9297, Loss: 0.0646\n",
      "Epoch   2 Batch  310/538 - Train Accuracy: 0.9508, Validation Accuracy: 0.9268, Loss: 0.0810\n",
      "Epoch   2 Batch  315/538 - Train Accuracy: 0.9139, Validation Accuracy: 0.9196, Loss: 0.0738\n",
      "Epoch   2 Batch  320/538 - Train Accuracy: 0.9163, Validation Accuracy: 0.9295, Loss: 0.0768\n",
      "Epoch   2 Batch  325/538 - Train Accuracy: 0.9312, Validation Accuracy: 0.9261, Loss: 0.0741\n",
      "Epoch   2 Batch  330/538 - Train Accuracy: 0.9356, Validation Accuracy: 0.9222, Loss: 0.0648\n",
      "Epoch   2 Batch  335/538 - Train Accuracy: 0.9425, Validation Accuracy: 0.9217, Loss: 0.0725\n",
      "Epoch   2 Batch  340/538 - Train Accuracy: 0.9186, Validation Accuracy: 0.9498, Loss: 0.0714\n",
      "Epoch   2 Batch  345/538 - Train Accuracy: 0.9358, Validation Accuracy: 0.9162, Loss: 0.0694\n",
      "Epoch   2 Batch  350/538 - Train Accuracy: 0.9157, Validation Accuracy: 0.9080, Loss: 0.0850\n",
      "Epoch   2 Batch  355/538 - Train Accuracy: 0.9311, Validation Accuracy: 0.9237, Loss: 0.0922\n",
      "Epoch   2 Batch  360/538 - Train Accuracy: 0.9227, Validation Accuracy: 0.9274, Loss: 0.0746\n",
      "Epoch   2 Batch  365/538 - Train Accuracy: 0.9291, Validation Accuracy: 0.9339, Loss: 0.0723\n",
      "Epoch   2 Batch  370/538 - Train Accuracy: 0.9309, Validation Accuracy: 0.9208, Loss: 0.0718\n",
      "Epoch   2 Batch  375/538 - Train Accuracy: 0.9241, Validation Accuracy: 0.9150, Loss: 0.0750\n",
      "Epoch   2 Batch  380/538 - Train Accuracy: 0.9316, Validation Accuracy: 0.9252, Loss: 0.0633\n",
      "Epoch   2 Batch  385/538 - Train Accuracy: 0.9431, Validation Accuracy: 0.9414, Loss: 0.0670\n",
      "Epoch   2 Batch  390/538 - Train Accuracy: 0.9477, Validation Accuracy: 0.9498, Loss: 0.0626\n",
      "Epoch   2 Batch  395/538 - Train Accuracy: 0.9229, Validation Accuracy: 0.9286, Loss: 0.0848\n",
      "Epoch   2 Batch  400/538 - Train Accuracy: 0.9314, Validation Accuracy: 0.9260, Loss: 0.0694\n",
      "Epoch   2 Batch  405/538 - Train Accuracy: 0.9453, Validation Accuracy: 0.9352, Loss: 0.0733\n",
      "Epoch   2 Batch  410/538 - Train Accuracy: 0.9588, Validation Accuracy: 0.9355, Loss: 0.0820\n",
      "Epoch   2 Batch  415/538 - Train Accuracy: 0.9143, Validation Accuracy: 0.9473, Loss: 0.0763\n",
      "Epoch   2 Batch  420/538 - Train Accuracy: 0.9441, Validation Accuracy: 0.9409, Loss: 0.0751\n",
      "Epoch   2 Batch  425/538 - Train Accuracy: 0.9256, Validation Accuracy: 0.9363, Loss: 0.0863\n",
      "Epoch   2 Batch  430/538 - Train Accuracy: 0.9334, Validation Accuracy: 0.9201, Loss: 0.0712\n",
      "Epoch   2 Batch  435/538 - Train Accuracy: 0.9334, Validation Accuracy: 0.9171, Loss: 0.0664\n",
      "Epoch   2 Batch  440/538 - Train Accuracy: 0.9379, Validation Accuracy: 0.9403, Loss: 0.0905\n",
      "Epoch   2 Batch  445/538 - Train Accuracy: 0.9328, Validation Accuracy: 0.9265, Loss: 0.0650\n",
      "Epoch   2 Batch  450/538 - Train Accuracy: 0.9178, Validation Accuracy: 0.9299, Loss: 0.0933\n",
      "Epoch   2 Batch  455/538 - Train Accuracy: 0.9377, Validation Accuracy: 0.9348, Loss: 0.0682\n",
      "Epoch   2 Batch  460/538 - Train Accuracy: 0.9053, Validation Accuracy: 0.9318, Loss: 0.0773\n",
      "Epoch   2 Batch  465/538 - Train Accuracy: 0.9348, Validation Accuracy: 0.9190, Loss: 0.0743\n",
      "Epoch   2 Batch  470/538 - Train Accuracy: 0.9481, Validation Accuracy: 0.9114, Loss: 0.0741\n",
      "Epoch   2 Batch  475/538 - Train Accuracy: 0.9364, Validation Accuracy: 0.9165, Loss: 0.0742\n",
      "Epoch   2 Batch  480/538 - Train Accuracy: 0.9382, Validation Accuracy: 0.9180, Loss: 0.0745\n",
      "Epoch   2 Batch  485/538 - Train Accuracy: 0.9373, Validation Accuracy: 0.9228, Loss: 0.0750\n",
      "Epoch   2 Batch  490/538 - Train Accuracy: 0.9347, Validation Accuracy: 0.9339, Loss: 0.0641\n",
      "Epoch   2 Batch  495/538 - Train Accuracy: 0.9281, Validation Accuracy: 0.9226, Loss: 0.0713\n",
      "Epoch   2 Batch  500/538 - Train Accuracy: 0.9648, Validation Accuracy: 0.9387, Loss: 0.0519\n",
      "Epoch   2 Batch  505/538 - Train Accuracy: 0.9537, Validation Accuracy: 0.9498, Loss: 0.0597\n",
      "Epoch   2 Batch  510/538 - Train Accuracy: 0.9522, Validation Accuracy: 0.9402, Loss: 0.0641\n",
      "Epoch   2 Batch  515/538 - Train Accuracy: 0.9332, Validation Accuracy: 0.9181, Loss: 0.0772\n",
      "Epoch   2 Batch  520/538 - Train Accuracy: 0.9391, Validation Accuracy: 0.9242, Loss: 0.0684\n",
      "Epoch   2 Batch  525/538 - Train Accuracy: 0.9516, Validation Accuracy: 0.9219, Loss: 0.0688\n",
      "Epoch   2 Batch  530/538 - Train Accuracy: 0.9115, Validation Accuracy: 0.9308, Loss: 0.0784\n",
      "Epoch   2 Batch  535/538 - Train Accuracy: 0.9373, Validation Accuracy: 0.9292, Loss: 0.0659\n",
      "Model Trained and Saved\n"
     ]
    }
   ],
   "source": [
    "\"\"\"\n",
    "DON'T MODIFY ANYTHING IN THIS CELL\n",
    "\"\"\"\n",
    "def get_accuracy(target, logits):\n",
    "    \"\"\"\n",
    "    Calculate accuracy\n",
    "    \"\"\"\n",
    "    max_seq = max(target.shape[1], logits.shape[1])\n",
    "    if max_seq - target.shape[1]:\n",
    "        target = np.pad(\n",
    "            target,\n",
    "            [(0,0),(0,max_seq - target.shape[1])],\n",
    "            'constant')\n",
    "    if max_seq - logits.shape[1]:\n",
    "        logits = np.pad(\n",
    "            logits,\n",
    "            [(0,0),(0,max_seq - logits.shape[1])],\n",
    "            'constant')\n",
    "\n",
    "    return np.mean(np.equal(target, logits))\n",
    "\n",
    "# Split data to training and validation sets\n",
    "train_source = source_int_text[batch_size:]\n",
    "train_target = target_int_text[batch_size:]\n",
    "valid_source = source_int_text[:batch_size]\n",
    "valid_target = target_int_text[:batch_size]\n",
    "(valid_sources_batch, valid_targets_batch, valid_sources_lengths, valid_targets_lengths ) = next(get_batches(valid_source,\n",
    "                                                                                                             valid_target,\n",
    "                                                                                                             batch_size,\n",
    "                                                                                                             source_vocab_to_int['<PAD>'],\n",
    "                                                                                                             target_vocab_to_int['<PAD>']))                                                                                                  \n",
    "with tf.Session(graph=train_graph) as sess:\n",
    "    sess.run(tf.global_variables_initializer())\n",
    "\n",
    "    for epoch_i in range(epochs):\n",
    "        for batch_i, (source_batch, target_batch, sources_lengths, targets_lengths) in enumerate(\n",
    "                get_batches(train_source, train_target, batch_size,\n",
    "                            source_vocab_to_int['<PAD>'],\n",
    "                            target_vocab_to_int['<PAD>'])):\n",
    "\n",
    "            _, loss = sess.run(\n",
    "                [train_op, cost],\n",
    "                {input_data: source_batch,\n",
    "                 targets: target_batch,\n",
    "                 lr: learning_rate,\n",
    "                 target_sequence_length: targets_lengths,\n",
    "                 source_sequence_length: sources_lengths,\n",
    "                 keep_prob: keep_probability})\n",
    "\n",
    "\n",
    "            if batch_i % display_step == 0 and batch_i > 0:\n",
    "\n",
    "\n",
    "                batch_train_logits = sess.run(\n",
    "                    inference_logits,\n",
    "                    {input_data: source_batch,\n",
    "                     source_sequence_length: sources_lengths,\n",
    "                     target_sequence_length: targets_lengths,\n",
    "                     keep_prob: 1.0})\n",
    "\n",
    "\n",
    "                batch_valid_logits = sess.run(\n",
    "                    inference_logits,\n",
    "                    {input_data: valid_sources_batch,\n",
    "                     source_sequence_length: valid_sources_lengths,\n",
    "                     target_sequence_length: valid_targets_lengths,\n",
    "                     keep_prob: 1.0})\n",
    "\n",
    "                train_acc = get_accuracy(target_batch, batch_train_logits)\n",
    "\n",
    "                valid_acc = get_accuracy(valid_targets_batch, batch_valid_logits)\n",
    "\n",
    "                print('Epoch {:>3} Batch {:>4}/{} - Train Accuracy: {:>6.4f}, Validation Accuracy: {:>6.4f}, Loss: {:>6.4f}'\n",
    "                      .format(epoch_i, batch_i, len(source_int_text) // batch_size, train_acc, valid_acc, loss))\n",
    "\n",
    "    # Save Model\n",
    "    saver = tf.train.Saver()\n",
    "    saver.save(sess, save_path)\n",
    "    print('Model Trained and Saved')"
   ]
  },
  {
   "cell_type": "markdown",
   "metadata": {},
   "source": [
    "### Save Parameters\n",
    "Save the `batch_size` and `save_path` parameters for inference."
   ]
  },
  {
   "cell_type": "code",
   "execution_count": 55,
   "metadata": {
    "collapsed": true
   },
   "outputs": [],
   "source": [
    "\"\"\"\n",
    "DON'T MODIFY ANYTHING IN THIS CELL\n",
    "\"\"\"\n",
    "# Save parameters for checkpoint\n",
    "helper.save_params(save_path)"
   ]
  },
  {
   "cell_type": "markdown",
   "metadata": {},
   "source": [
    "# Checkpoint"
   ]
  },
  {
   "cell_type": "code",
   "execution_count": 56,
   "metadata": {
    "collapsed": true
   },
   "outputs": [],
   "source": [
    "\"\"\"\n",
    "DON'T MODIFY ANYTHING IN THIS CELL\n",
    "\"\"\"\n",
    "import tensorflow as tf\n",
    "import numpy as np\n",
    "import helper\n",
    "import problem_unittests as tests\n",
    "\n",
    "_, (source_vocab_to_int, target_vocab_to_int), (source_int_to_vocab, target_int_to_vocab) = helper.load_preprocess()\n",
    "load_path = helper.load_params()"
   ]
  },
  {
   "cell_type": "markdown",
   "metadata": {},
   "source": [
    "## Sentence to Sequence\n",
    "To feed a sentence into the model for translation, you first need to preprocess it.  Implement the function `sentence_to_seq()` to preprocess new sentences.\n",
    "\n",
    "- Convert the sentence to lowercase\n",
    "- Convert words into ids using `vocab_to_int`\n",
    " - Convert words not in the vocabulary, to the `<UNK>` word id."
   ]
  },
  {
   "cell_type": "code",
   "execution_count": 57,
   "metadata": {},
   "outputs": [
    {
     "name": "stdout",
     "output_type": "stream",
     "text": [
      "Tests Passed\n"
     ]
    }
   ],
   "source": [
    "def sentence_to_seq(sentence, vocab_to_int):\n",
    "    \"\"\"\n",
    "    Convert a sentence to a sequence of ids\n",
    "    :param sentence: String\n",
    "    :param vocab_to_int: Dictionary to go from the words to an id\n",
    "    :return: List of word ids\n",
    "    \"\"\"\n",
    "    # TODO: Implement Function\n",
    "    sentence = sentence.lower()\n",
    "    sentence_ids = [vocab_to_int.get(word, vocab_to_int['<UNK>']) for word in sentence.split()]\n",
    "    return sentence_ids\n",
    "\n",
    "\n",
    "\"\"\"\n",
    "DON'T MODIFY ANYTHING IN THIS CELL THAT IS BELOW THIS LINE\n",
    "\"\"\"\n",
    "tests.test_sentence_to_seq(sentence_to_seq)"
   ]
  },
  {
   "cell_type": "markdown",
   "metadata": {},
   "source": [
    "## Translate\n",
    "This will translate `translate_sentence` from English to French."
   ]
  },
  {
   "cell_type": "code",
   "execution_count": 62,
   "metadata": {},
   "outputs": [
    {
     "name": "stdout",
     "output_type": "stream",
     "text": [
      "INFO:tensorflow:Restoring parameters from checkpoints/dev\n",
      "Input\n",
      "  Word Ids:      [65, 200, 83, 115, 176, 120, 140]\n",
      "  English Words: ['he', 'saw', 'a', 'old', 'yellow', 'car', '.']\n",
      "\n",
      "Prediction\n",
      "  Word Ids:      [57, 296, 307, 154, 101, 269, 119, 315, 1]\n",
      "  French Words: il a vu une vieille voiture jaune . <EOS>\n"
     ]
    }
   ],
   "source": [
    "translate_sentence = 'he saw a old yellow car .'\n",
    "\n",
    "\n",
    "\"\"\"\n",
    "DON'T MODIFY ANYTHING IN THIS CELL\n",
    "\"\"\"\n",
    "translate_sentence = sentence_to_seq(translate_sentence, source_vocab_to_int)\n",
    "\n",
    "loaded_graph = tf.Graph()\n",
    "with tf.Session(graph=loaded_graph) as sess:\n",
    "    # Load saved model\n",
    "    loader = tf.train.import_meta_graph(load_path + '.meta')\n",
    "    loader.restore(sess, load_path)\n",
    "\n",
    "    input_data = loaded_graph.get_tensor_by_name('input:0')\n",
    "    logits = loaded_graph.get_tensor_by_name('predictions:0')\n",
    "    target_sequence_length = loaded_graph.get_tensor_by_name('target_sequence_length:0')\n",
    "    source_sequence_length = loaded_graph.get_tensor_by_name('source_sequence_length:0')\n",
    "    keep_prob = loaded_graph.get_tensor_by_name('keep_prob:0')\n",
    "\n",
    "    translate_logits = sess.run(logits, {input_data: [translate_sentence]*batch_size,\n",
    "                                         target_sequence_length: [len(translate_sentence)*2]*batch_size,\n",
    "                                         source_sequence_length: [len(translate_sentence)]*batch_size,\n",
    "                                         keep_prob: 1.0})[0]\n",
    "\n",
    "print('Input')\n",
    "print('  Word Ids:      {}'.format([i for i in translate_sentence]))\n",
    "print('  English Words: {}'.format([source_int_to_vocab[i] for i in translate_sentence]))\n",
    "\n",
    "print('\\nPrediction')\n",
    "print('  Word Ids:      {}'.format([i for i in translate_logits]))\n",
    "print('  French Words: {}'.format(\" \".join([target_int_to_vocab[i] for i in translate_logits])))\n"
   ]
  },
  {
   "cell_type": "markdown",
   "metadata": {},
   "source": [
    "## Imperfect Translation\n",
    "You might notice that some sentences translate better than others.  Since the dataset you're using only has a vocabulary of 227 English words of the thousands that you use, you're only going to see good results using these words.  For this project, you don't need a perfect translation. However, if you want to create a better translation model, you'll need better data.\n",
    "\n",
    "You can train on the [WMT10 French-English corpus](http://www.statmt.org/wmt10/training-giga-fren.tar).  This dataset has more vocabulary and richer in topics discussed.  However, this will take you days to train, so make sure you've a GPU and the neural network is performing well on dataset we provided.  Just make sure you play with the WMT10 corpus after you've submitted this project.\n",
    "## Submitting This Project\n",
    "When submitting this project, make sure to run all the cells before saving the notebook. Save the notebook file as \"dlnd_language_translation.ipynb\" and save it as a HTML file under \"File\" -> \"Download as\". Include the \"helper.py\" and \"problem_unittests.py\" files in your submission."
   ]
  }
 ],
 "metadata": {
  "anaconda-cloud": {},
  "kernelspec": {
   "display_name": "Python 3",
   "language": "python",
   "name": "python3"
  },
  "language_info": {
   "codemirror_mode": {
    "name": "ipython",
    "version": 3
   },
   "file_extension": ".py",
   "mimetype": "text/x-python",
   "name": "python",
   "nbconvert_exporter": "python",
   "pygments_lexer": "ipython3",
   "version": "3.5.3"
  }
 },
 "nbformat": 4,
 "nbformat_minor": 1
}
